{
 "cells": [
  {
   "cell_type": "code",
   "execution_count": 4,
   "id": "0ae4b89b",
   "metadata": {},
   "outputs": [],
   "source": [
    "class Qubit:\n",
    "    def __init__(self, alpha=1, beta=0):\n",
    "        self.alpha = alpha\n",
    "        self.beta = beta\n",
    "    \n",
    "    def __str__(self):\n",
    "        return f\"{self.alpha}|0⟩ + {self.beta}|1⟩\"\n"
   ]
  },
  {
   "cell_type": "code",
   "execution_count": 5,
   "id": "0fe55bc7",
   "metadata": {},
   "outputs": [],
   "source": [
    "import numpy as np\n",
    "\n",
    "class QuantumGate:\n",
    "    @staticmethod\n",
    "    def hadamard():\n",
    "        return np.array([[1/np.sqrt(2), 1/np.sqrt(2)],\n",
    "                         [1/np.sqrt(2), -1/np.sqrt(2)]])\n",
    "    @staticmethod\n",
    "    def x():\n",
    "        return np.array([  [0, 1],[1, 0]])\n",
    "    @staticmethod\n",
    "    def cnot():\n",
    "        return np.array([[1, 0, 0, 0],\n",
    "                         [0, 1, 0, 0],\n",
    "                         [0, 0, 0, 1],\n",
    "                         [0, 0, 1, 0]])\n",
    "    @staticmethod\n",
    "    def y():\n",
    "        return np.array([[0, -1j],\n",
    "                         [1j, 0]])\n",
    "\n",
    "    @staticmethod\n",
    "    def z():\n",
    "        return np.array([[1, 0],\n",
    "                         [0, -1]])\n",
    "\n"
   ]
  },
  {
   "cell_type": "code",
   "execution_count": 6,
   "id": "1b1705d2",
   "metadata": {},
   "outputs": [],
   "source": [
    "import random\n",
    "class QuantumCircuit:\n",
    "    def __init__(self, num_qubits,noise_prob=0):\n",
    "        self.num_qubits = num_qubits\n",
    "        self.qubits = [Qubit() for _ in range(num_qubits)]\n",
    "        self.gates = []\n",
    "        self.noise_prob = noise_prob  # Probability of gate being affected by noise\n",
    "    \n",
    "    def add_gate(self, gate, target_qubits):\n",
    "        self.gates.append((gate, target_qubits))\n",
    "    \n",
    "    def apply(self): #with depolarizing noise model.\n",
    "        for gate, target_qubits in self.gates:\n",
    "            for qubit_index in target_qubits:\n",
    "                # Apply gate with noise\n",
    "                q = self.qubits[qubit_index]\n",
    "                if random.random() < self.noise_prob:\n",
    "                    # Introduce random Pauli-X, Pauli-Y, or Pauli-Z error\n",
    "                    error_gate = random.choice([QuantumGate.x(), QuantumGate.y(), QuantumGate.z()])\n",
    "                    qubit_state = np.dot(error_gate, np.array([[q.alpha], [q.beta]]))\n",
    "                else:\n",
    "                    qubit_state = np.dot(gate, np.array([[q.alpha], [q.beta]]))\n",
    "                    \n",
    "                    #phase error handling\n",
    "                \n",
    "                self.qubits[qubit_index].alpha = qubit_state[0][0]\n",
    "                self.qubits[qubit_index].beta = qubit_state[1][0]\n",
    "    def measure(self, qubit_index):\n",
    "        qubit = self.qubits[qubit_index]\n",
    "        probabilities = [abs(qubit.alpha) ** 2, abs(qubit.beta) ** 2]\n",
    "        outcome = random.choices([0, 1], probabilities)[0]\n",
    "        \n",
    "        if outcome == 0:\n",
    "            qubit.alpha = 1\n",
    "            qubit.beta = 0\n",
    "        else:\n",
    "            qubit.alpha = 0\n",
    "            qubit.beta = 1\n",
    "        \n",
    "        return outcome             \n"
   ]
  },
  {
   "cell_type": "code",
   "execution_count": 22,
   "id": "7ed17196",
   "metadata": {},
   "outputs": [
    {
     "name": "stdout",
     "output_type": "stream",
     "text": [
      "Measurement Result: 1\n"
     ]
    }
   ],
   "source": [
    "# Create a quantum circuit with 1 qubit and a noise probability of 10%\n",
    "my_noisy_circuit = QuantumCircuit(1, noise_prob=0.5)\n",
    "\n",
    "# Apply Hadamard gate to the qubit\n",
    "my_noisy_circuit.add_gate(QuantumGate.hadamard(), [0])\n",
    "my_noisy_circuit.apply()\n",
    "\n",
    "# Measure the qubit\n",
    "measurement_result = my_noisy_circuit.measure(0)\n",
    "\n",
    "print(f\"Measurement Result: {measurement_result}\")\n"
   ]
  },
  {
   "cell_type": "code",
   "execution_count": 17,
   "id": "48a027d3",
   "metadata": {},
   "outputs": [
    {
     "ename": "NameError",
     "evalue": "name 'my_circuit' is not defined",
     "output_type": "error",
     "traceback": [
      "\u001b[1;31m---------------------------------------------------------------------------\u001b[0m",
      "\u001b[1;31mNameError\u001b[0m                                 Traceback (most recent call last)",
      "Cell \u001b[1;32mIn[17], line 1\u001b[0m\n\u001b[1;32m----> 1\u001b[0m \u001b[43mmy_circuit\u001b[49m\u001b[38;5;241m.\u001b[39madd_gate(QuantumGate\u001b[38;5;241m.\u001b[39mhadamard(), [\u001b[38;5;241m0\u001b[39m])\n",
      "\u001b[1;31mNameError\u001b[0m: name 'my_circuit' is not defined"
     ]
    }
   ],
   "source": [
    "my_circuit.add_gate(QuantumGate.hadamard(), [0])"
   ]
  },
  {
   "cell_type": "code",
   "execution_count": 18,
   "id": "9da3db58",
   "metadata": {},
   "outputs": [
    {
     "ename": "NameError",
     "evalue": "name 'my_circuit' is not defined",
     "output_type": "error",
     "traceback": [
      "\u001b[1;31m---------------------------------------------------------------------------\u001b[0m",
      "\u001b[1;31mNameError\u001b[0m                                 Traceback (most recent call last)",
      "Cell \u001b[1;32mIn[18], line 1\u001b[0m\n\u001b[1;32m----> 1\u001b[0m \u001b[43mmy_circuit\u001b[49m\u001b[38;5;241m.\u001b[39mmeasure(\u001b[38;5;241m0\u001b[39m)\n",
      "\u001b[1;31mNameError\u001b[0m: name 'my_circuit' is not defined"
     ]
    }
   ],
   "source": [
    "my_circuit.measure(0)"
   ]
  },
  {
   "cell_type": "code",
   "execution_count": null,
   "id": "081fd4d0",
   "metadata": {},
   "outputs": [],
   "source": []
  }
 ],
 "metadata": {
  "kernelspec": {
   "display_name": "Python 3 (ipykernel)",
   "language": "python",
   "name": "python3"
  },
  "language_info": {
   "codemirror_mode": {
    "name": "ipython",
    "version": 3
   },
   "file_extension": ".py",
   "mimetype": "text/x-python",
   "name": "python",
   "nbconvert_exporter": "python",
   "pygments_lexer": "ipython3",
   "version": "3.10.9"
  }
 },
 "nbformat": 4,
 "nbformat_minor": 5
}
